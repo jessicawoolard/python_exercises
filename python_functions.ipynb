{
 "cells": [
  {
   "cell_type": "markdown",
   "metadata": {},
   "source": [
    "Define a function ```max_number()``` that takes two numbers as arguments and returns the largest of them. Use the if-then-else construct available in Python."
   ]
  },
  {
   "cell_type": "code",
   "execution_count": 3,
   "metadata": {},
   "outputs": [
    {
     "data": {
      "text/plain": [
       "6"
      ]
     },
     "execution_count": 3,
     "metadata": {},
     "output_type": "execute_result"
    }
   ],
   "source": [
    "def max_number(x,y):\n",
    "    \n",
    "    if x >= y:\n",
    "        return x\n",
    "    else:\n",
    "        return y\n",
    "    \n",
    "max_number(5,6)"
   ]
  },
  {
   "cell_type": "markdown",
   "metadata": {},
   "source": [
    "Define a function ```max_of_three()``` that takes three numbers as arguments and returns the largest of them."
   ]
  },
  {
   "cell_type": "code",
   "execution_count": 7,
   "metadata": {},
   "outputs": [
    {
     "data": {
      "text/plain": [
       "9"
      ]
     },
     "execution_count": 7,
     "metadata": {},
     "output_type": "execute_result"
    }
   ],
   "source": [
    "def max_of_three(x, y, z):\n",
    "    if (x >= y) and (x >= z):\n",
    "        biggest = x\n",
    "    elif (y >= x) and (y >= z):\n",
    "        biggest = y\n",
    "    else: \n",
    "        biggest = z\n",
    "    return biggest\n",
    "\n",
    "max_of_three(8, 9, 7)"
   ]
  },
  {
   "cell_type": "markdown",
   "metadata": {},
   "source": [
    "Define a function ```is_vowel()``` that takes a character (i.e. a string of length 1). Return true if it is a vowel, false otherwise."
   ]
  },
  {
   "cell_type": "code",
   "execution_count": 51,
   "metadata": {},
   "outputs": [
    {
     "data": {
      "text/plain": [
       "'Try again'"
      ]
     },
     "execution_count": 51,
     "metadata": {},
     "output_type": "execute_result"
    }
   ],
   "source": [
    "def is_vowel(letter):\n",
    "    vowels = ('a', 'e', 'i', 'o', 'u', 'A', 'E', 'I', 'O', 'U')\n",
    "    if letter in vowels:\n",
    "        return (\"That\\'s a vowel!\")\n",
    "    else:\n",
    "        return (\"Try again\")\n",
    "is_vowel('y')\n",
    "    "
   ]
  },
  {
   "cell_type": "markdown",
   "metadata": {},
   "source": [
    "Define a function ```translate()``` that will translate text into \"rövarspråket\". That is, double every consonant and place an occurrence of \"o\" in between. For example, ```translate(\"this is fun\")``` should return the string ```\"tothohisos isos fofunon\"```."
   ]
  },
  {
   "cell_type": "code",
   "execution_count": 5,
   "metadata": {},
   "outputs": [
    {
     "data": {
      "text/plain": [
       "'jojesossosicoca'"
      ]
     },
     "execution_count": 5,
     "metadata": {},
     "output_type": "execute_result"
    }
   ],
   "source": [
    "def translate(text):\n",
    "    consonants = \"bcdfghjklmnpqrstvwxyzBCDFGHJKLMNPQRSTVWXYZ\"\n",
    "    translate = \"\"\n",
    "    \n",
    "    for character in text:\n",
    "        if character in consonants:\n",
    "            translate += character + \"o\" + character\n",
    "        else:\n",
    "            translate += character\n",
    "    \n",
    "    return translate\n",
    "    \n",
    "\n",
    "translate(\"jessica\")    "
   ]
  },
  {
   "cell_type": "markdown",
   "metadata": {},
   "source": [
    "Define a function ```sum()``` and a function ```multiply()```. Functions should sum and multiply (respectively) all numbers in an list of numbers. For example, ```sum([1,2,3,4])``` should return ```10```, and ```multiply([1,2,3,4])``` should return ```24```."
   ]
  },
  {
   "cell_type": "code",
   "execution_count": 12,
   "metadata": {},
   "outputs": [
    {
     "data": {
      "text/plain": [
       "10"
      ]
     },
     "execution_count": 12,
     "metadata": {},
     "output_type": "execute_result"
    }
   ],
   "source": [
    "def sum(num_array):\n",
    "    total = int(0)\n",
    "    \n",
    "    for number in num_array:\n",
    "        total = total + int(number)\n",
    "        \n",
    "    return total\n",
    "    \n",
    "sum([2, 4, 5])\n",
    "\n",
    "def multiply(num_array):\n",
    "    total = int(1)\n",
    "    \n",
    "    for number in num_array:\n",
    "        total = total * int(number)\n",
    "    \n",
    "    return total\n",
    "\n",
    "multiply([2, 5])"
   ]
  },
  {
   "cell_type": "markdown",
   "metadata": {},
   "source": [
    "Define a function ```reverse()``` that computes the reversal of a string. For example, ```reverse(\"jag testar\")``` should return the string ```\"ratset gaj\"```."
   ]
  },
  {
   "cell_type": "code",
   "execution_count": 14,
   "metadata": {},
   "outputs": [
    {
     "data": {
      "text/plain": [
       "'yoc'"
      ]
     },
     "execution_count": 14,
     "metadata": {},
     "output_type": "execute_result"
    }
   ],
   "source": [
    "def reverse(text):\n",
    "    \n",
    "    return \"\".join(reversed(text))\n",
    "\n",
    "reverse(\"coy\")"
   ]
  },
  {
   "cell_type": "markdown",
   "metadata": {},
   "source": [
    "Define a function ```find_longest_word()``` that takes a list of words and returns the length of the longest one."
   ]
  },
  {
   "cell_type": "code",
   "execution_count": null,
   "metadata": {},
   "outputs": [],
   "source": [
    "def find_longest_world():\n",
    "    "
   ]
  },
  {
   "cell_type": "markdown",
   "metadata": {},
   "source": [
    "Define a function ```filter_long_words()``` that takes a list of words and an integer ```i``` and returns a list of words that are longer than ```i```."
   ]
  },
  {
   "cell_type": "code",
   "execution_count": null,
   "metadata": {},
   "outputs": [],
   "source": []
  },
  {
   "cell_type": "markdown",
   "metadata": {},
   "source": [
    "Write a function ```char_freq()``` that takes a string and builds a frequency listing of the characters contained in it. Represent the frequency listing as a Python dictionary. Try it with something like ```charFreq(\"abbabcbdbabdbdbabababcbcbab\")```."
   ]
  },
  {
   "cell_type": "code",
   "execution_count": null,
   "metadata": {},
   "outputs": [],
   "source": []
  }
 ],
 "metadata": {
  "kernelspec": {
   "display_name": "Python 3",
   "language": "python",
   "name": "python3"
  },
  "language_info": {
   "codemirror_mode": {
    "name": "ipython",
    "version": 3
   },
   "file_extension": ".py",
   "mimetype": "text/x-python",
   "name": "python",
   "nbconvert_exporter": "python",
   "pygments_lexer": "ipython3",
   "version": "3.7.2"
  }
 },
 "nbformat": 4,
 "nbformat_minor": 2
}
